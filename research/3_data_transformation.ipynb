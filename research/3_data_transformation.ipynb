{
 "cells": [
  {
   "cell_type": "code",
   "execution_count": null,
   "metadata": {},
   "outputs": [],
   "source": [
    "## Update the config.yaml\n",
    "\n",
    "data_transformation:\n",
    "  root_dir : artifacts/data_transformation\n",
    "  data_path : artifacts/data_ingestion/winequality-red.csv"
   ]
  },
  {
   "cell_type": "code",
   "execution_count": null,
   "metadata": {},
   "outputs": [],
   "source": [
    "## update the entity --- config.entity\n",
    "from dataclasses import dataclass\n",
    "from pathlib import Path\n",
    "\n",
    "@dataclass\n",
    "class DataTransformationConfig:\n",
    "    root_dir : Path\n",
    "    data_path : Path"
   ]
  },
  {
   "cell_type": "code",
   "execution_count": null,
   "metadata": {},
   "outputs": [],
   "source": [
    "## Update Configuration manager --- configuration.py\n",
    "\n",
    "\n",
    "from src.end_to_end_ML_project_1.constants import *\n",
    "from src.end_to_end_ML_project_1.utils.common import read_yaml,create_directories\n",
    "\n",
    "class ConfigurationManager:\n",
    "    def __init__(self,config_filepath=CONFIG_FILE_PATH, \n",
    "                 params_filepath = PARAMS_FILE_PATH, \n",
    "                 schema_filepath = SCHEMA_FILE_PATH):\n",
    "        self.config = read_yaml(config_filepath)\n",
    "        self.params=read_yaml(params_filepath)\n",
    "        self.schema=read_yaml(schema_filepath)\n",
    "\n",
    "        create_directories([self.config.artifacts_root])\n",
    "\n",
    "\n",
    "    ## Perform the data transformation\n",
    "\n",
    "    def get_data_transformation_config(self) -> DataTransformationConfig:\n",
    "        config = self.config.data_transformation\n",
    "        create_directories([config.root_dir])\n",
    "        data_transformation_config=DataTransformationConfig(\n",
    "            root_dir=config.root_dir,\n",
    "            data_path=config.data_path\n",
    "        )\n",
    "        return data_transformation_config"
   ]
  },
  {
   "cell_type": "code",
   "execution_count": null,
   "metadata": {},
   "outputs": [],
   "source": [
    "## Update the Components --> data_transformation.py\n",
    "\n",
    "import os\n",
    "from src.end_to_end_ML_project_1 import logger\n",
    "from sklearn.model_selection import train_test_split\n",
    "import pandas as pd\n",
    "\n",
    "\n",
    "class DataTransformation:\n",
    "    def __init__(self,config: DataTransformationConfig):\n",
    "        self.config = config\n",
    "\n",
    "    \"\"\"\n",
    "    Different Data Transformation Techniques can be added here such as Scaler, PCA and all.\n",
    "    Different kinds of EDA in ML cycle can also be performed here before passing the data to the model.\n",
    "    This data won't go through the whole data transformation process because this is to demonstrate the end to end machine learning learning ETL pipeline.\n",
    "    This data is already clean and can be used for modeling.\n",
    "    \"\"\"\n",
    "\n",
    "    def train_test_splitting(self):\n",
    "        data=pd.read_csv(self.config.data_path) \n",
    "\n",
    "        #Split the data into training and test datasets.\n",
    "        train,test = train_test_split(data)\n",
    "        train.to_csv(os.path.join(self.config.root_dir, 'train_csv'),index= False) \n",
    "        test.to_csv(os.path.join(self.config.root_dir, 'test.csv'), index = False)\n",
    "\n",
    "        logger.info('Splitted data into training and test sets')\n",
    "        logger.info(train.shape)\n",
    "        logger.info(test.shape)  \n"
   ]
  },
  {
   "cell_type": "code",
   "execution_count": null,
   "metadata": {},
   "outputs": [],
   "source": [
    "## Update the Pipeline\n",
    "\n",
    "try:\n",
    "    config = ConfigurationManager()\n",
    "    data_transformation_config = config.get_data_transformation_config()\n",
    "    data_transformation = DataTransformation(config=data_transformation_config)\n",
    "    data_transformation.train_test_splitting()\n",
    "except Exception as e:\n",
    "    raise e\n",
    "\n"
   ]
  },
  {
   "cell_type": "code",
   "execution_count": null,
   "metadata": {},
   "outputs": [],
   "source": []
  },
  {
   "cell_type": "code",
   "execution_count": null,
   "metadata": {},
   "outputs": [],
   "source": []
  }
 ],
 "metadata": {
  "kernelspec": {
   "display_name": "Python 3",
   "language": "python",
   "name": "python3"
  },
  "language_info": {
   "name": "python",
   "version": "3.10.0"
  }
 },
 "nbformat": 4,
 "nbformat_minor": 2
}
